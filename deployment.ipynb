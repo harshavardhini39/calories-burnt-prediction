{
 "cells": [
  {
   "cell_type": "code",
   "execution_count": null,
   "id": "d8c8e7e7",
   "metadata": {},
   "outputs": [
    {
     "name": "stdout",
     "output_type": "stream",
     "text": [
      " * Serving Flask app \"__main__\" (lazy loading)\n",
      " * Environment: production\n",
      "\u001b[31m   WARNING: This is a development server. Do not use it in a production deployment.\u001b[0m\n",
      "\u001b[2m   Use a production WSGI server instead.\u001b[0m\n",
      " * Debug mode: on\n"
     ]
    },
    {
     "name": "stderr",
     "output_type": "stream",
     "text": [
      " * Running on http://127.0.0.1:5000/ (Press CTRL+C to quit)\n",
      "127.0.0.1 - - [15/Jun/2023 21:29:02] \"GET / HTTP/1.1\" 200 -\n",
      "127.0.0.1 - - [15/Jun/2023 21:29:03] \"GET /favicon.ico HTTP/1.1\" 404 -\n",
      "127.0.0.1 - - [15/Jun/2023 21:29:03] \"GET /favicon.ico HTTP/1.1\" 404 -\n"
     ]
    }
   ],
   "source": [
    "from flask import Flask, render_template, request\n",
    "import joblib\n",
    "\n",
    "app = Flask(__name__)\n",
    "\n",
    "# Load the pre-trained model\n",
    "model = joblib.load('gb_model.pkl')\n",
    "\n",
    "@app.route('/')\n",
    "def home():\n",
    "    return render_template('index.html')\n",
    "\n",
    "@app.route('/predict', methods=['POST'])\n",
    "def predict():\n",
    "    if request.method == 'POST':\n",
    "        # Get user inputs from the HTML form\n",
    "        userid=int(request.form['User_ID'])\n",
    "        age = float(request.form['age'])\n",
    "        height = float(request.form['height'])\n",
    "        weight = float(request.form['weight'])\n",
    "        duration = float(request.form['duration'])\n",
    "        heart_rate = float(request.form['heart_rate'])\n",
    "        body_temp = float(request.form['body_temp'])\n",
    "\n",
    "        # Make a prediction using the loaded model\n",
    "        prediction = model.predict([[userid,age, height, weight, duration, heart_rate, body_temp]])\n",
    "\n",
    "        # Display the prediction result\n",
    "        return render_template('index.html', prediction=prediction[0])\n",
    "\n",
    "if __name__ == '__main__':\n",
    "    app.run(debug=True,use_reloader=False)\n"
   ]
  },
  {
   "cell_type": "code",
   "execution_count": null,
   "id": "c9d8d937",
   "metadata": {},
   "outputs": [],
   "source": []
  }
 ],
 "metadata": {
  "kernelspec": {
   "display_name": "Python 3 (ipykernel)",
   "language": "python",
   "name": "python3"
  },
  "language_info": {
   "codemirror_mode": {
    "name": "ipython",
    "version": 3
   },
   "file_extension": ".py",
   "mimetype": "text/x-python",
   "name": "python",
   "nbconvert_exporter": "python",
   "pygments_lexer": "ipython3",
   "version": "3.9.12"
  }
 },
 "nbformat": 4,
 "nbformat_minor": 5
}
